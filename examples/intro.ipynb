{
 "cells": [
  {
   "cell_type": "code",
   "execution_count": null,
   "metadata": {},
   "outputs": [],
   "source": [
    "%load_ext autoreload\n",
    "%autoreload 2\n",
    "\n",
    "from rejax import PPO\n",
    "import jax\n",
    "from env import NavigationEnv, NavigationEnvParams\n",
    "from rooms import RoomParams, generate_rooms\n",
    "\n",
    "TRAIN_SEED = 11\n",
    "\n",
    "# Initialize our environment\n",
    "env = NavigationEnv()\n",
    "\n",
    "# Generate rooms\n",
    "room_params = RoomParams(\n",
    "    size=4.0,\n",
    "    grid_size=8,\n",
    "    target_carved_percent=0.5,\n",
    "    num_rooms=256,\n",
    ")\n",
    "room_key = jax.random.PRNGKey(TRAIN_SEED)\n",
    "obstacles, free_positions = generate_rooms(room_key, room_params)\n",
    "\n",
    "# Initialize environment parameters with generated rooms\n",
    "env_params = NavigationEnvParams(\n",
    "    lidar_max_distance=2.0,\n",
    "    lidar_fov=120,\n",
    "    lidar_num_beams=16,\n",
    "    rooms=room_params,\n",
    "    obstacles=obstacles,\n",
    "    free_positions=free_positions,\n",
    ")\n",
    "\n",
    "# Initialize the training algorithm parameters\n",
    "config = {\n",
    "    # Pass our environment to the agent\n",
    "    \"env\": env,\n",
    "    \"env_params\": env_params,\n",
    "    # Number of timesteps during which the agent will be trained\n",
    "    \"total_timesteps\": 300_000,\n",
    "}\n",
    "\n",
    "# Create the training algorithm agent from `rejax` library\n",
    "ppo = PPO.create(**config)\n",
    "\n",
    "# Look at the whole configuration (we can experiment with all these parameters!)\n",
    "ppo.config"
   ]
  },
  {
   "cell_type": "markdown",
   "metadata": {},
   "source": [
    "## Training"
   ]
  },
  {
   "cell_type": "code",
   "execution_count": null,
   "metadata": {},
   "outputs": [],
   "source": [
    "import jax\n",
    "import time\n",
    "\n",
    "# Set the seed for reproducibility\n",
    "TRAIN_SEED = 13\n",
    "\n",
    "# Set training seed and jit train function\n",
    "rng = jax.random.PRNGKey(TRAIN_SEED)\n",
    "train_fn = jax.jit(ppo.train)\n",
    "\n",
    "print(\"Starting to train\")\n",
    "\n",
    "# Train!\n",
    "start = time.time()\n",
    "train_state, evaluation = train_fn(rng)\n",
    "time_elapsed = time.time() - start\n",
    "\n",
    "sps = ppo.total_timesteps / time_elapsed\n",
    "print(f\"Finished training in {time_elapsed:g} seconds ({sps:g} steps/second).\")"
   ]
  },
  {
   "cell_type": "markdown",
   "metadata": {},
   "source": [
    "## Evaluation"
   ]
  },
  {
   "cell_type": "code",
   "execution_count": null,
   "metadata": {},
   "outputs": [],
   "source": [
    "from matplotlib import pyplot as plt\n",
    "\n",
    "episode_lengths, episode_returns = evaluation\n",
    "mean_return = episode_returns.mean(axis=1)\n",
    "\n",
    "plt.plot(jax.numpy.linspace(0, ppo.total_timesteps, len(mean_return)), mean_return)\n",
    "plt.xlabel(\"Environment step\")\n",
    "plt.ylabel(\"Episodic return\")\n",
    "plt.title(f\"Training agent for {env.name} using {ppo.__class__.__name__}\")\n",
    "plt.show()"
   ]
  },
  {
   "cell_type": "code",
   "execution_count": null,
   "metadata": {},
   "outputs": [],
   "source": [
    "from eval import evaluate_model\n",
    "from env_vis import save_gif\n",
    "from pathlib import Path\n",
    "from IPython.display import Image as IPImage, display\n",
    "\n",
    "\n",
    "# Set the seed for reproducibility\n",
    "TEST_SEED = 77\n",
    "\n",
    "evaluation = evaluate_model(\n",
    "    agent=ppo,\n",
    "    train_state=train_state,\n",
    "    seed=TEST_SEED,\n",
    "    render=True,\n",
    "    n_eval_episodes=4,\n",
    ")\n",
    "\n",
    "if evaluation.rendered_frames is not None:\n",
    "    path = Path(f\"temp/intro_policy.gif\")\n",
    "    save_gif(evaluation.rendered_frames, path)\n",
    "\n",
    "    display(IPImage(filename=path))\n"
   ]
  }
 ],
 "metadata": {
  "kernelspec": {
   "display_name": ".venv",
   "language": "python",
   "name": "python3"
  },
  "language_info": {
   "codemirror_mode": {
    "name": "ipython",
    "version": 3
   },
   "file_extension": ".py",
   "mimetype": "text/x-python",
   "name": "python",
   "nbconvert_exporter": "python",
   "pygments_lexer": "ipython3",
   "version": "3.10.12"
  }
 },
 "nbformat": 4,
 "nbformat_minor": 2
}
