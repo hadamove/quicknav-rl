{
 "cells": [
  {
   "cell_type": "markdown",
   "metadata": {},
   "source": [
    "## Comparison of PPO, SAC, and TD3\n",
    "\n",
    ">Note: run all `ppo.ipynb`, `sac.ipynb`, and `td3.ipynb` which will save the necessry data in `temp/` folder before running this notebook."
   ]
  },
  {
   "cell_type": "markdown",
   "metadata": {},
   "source": [
    "## Load the data"
   ]
  },
  {
   "cell_type": "code",
   "execution_count": null,
   "metadata": {},
   "outputs": [],
   "source": [
    "from rejax import PPO, SAC, TD3\n",
    "import numpy as np\n",
    "from pathlib import Path\n",
    "\n",
    "algos = [PPO, SAC, TD3]\n",
    "\n",
    "training_curve_by_algo = {}\n",
    "rendered_frames_by_algo = {}\n",
    "returns_by_algo = {}\n",
    "\n",
    "for algo in algos:\n",
    "    algo_name = algo.__name__\n",
    "    training_curve_path = Path(f\"temp/{algo_name}_training_curve.npy\")\n",
    "    rendered_frames_path = Path(f\"temp/{algo_name}_rendered_frames.npy\")\n",
    "    returns_path = Path(f\"temp/{algo_name}_returns.npy\")\n",
    "\n",
    "    if any(not path.exists() for path in [training_curve_path, rendered_frames_path, returns_path]):\n",
    "        print(f\"‼️ Skipping {algo_name} because the data files do not exist, run the corresponding notebook first.\")\n",
    "        continue\n",
    "\n",
    "    training_curve_by_algo[algo_name] = np.load(training_curve_path)\n",
    "    rendered_frames_by_algo[algo_name] = np.load(rendered_frames_path, allow_pickle=True)\n",
    "    returns_by_algo[algo_name] = np.load(returns_path)"
   ]
  },
  {
   "cell_type": "markdown",
   "metadata": {},
   "source": [
    "## Plot training curves"
   ]
  },
  {
   "cell_type": "code",
   "execution_count": null,
   "metadata": {},
   "outputs": [],
   "source": [
    "from matplotlib import pyplot as plt\n",
    "\n",
    "for algo_name, training_curve in training_curve_by_algo.items():\n",
    "    plt.plot(training_curve, label=algo_name)\n",
    "    # limit y axis to go from -400\n",
    "    plt.ylim(-500, 100)\n",
    "plt.legend()\n",
    "plt.savefig(\"temp/training_curves_merged.png\")\n",
    "plt.show()"
   ]
  },
  {
   "cell_type": "markdown",
   "metadata": {},
   "source": [
    "## Evaluation on the test rooms\n",
    "\n",
    "The following table shows the reward in each test room for each algorithm. In the last row we show the average reward and the standard deviation across all test rooms."
   ]
  },
  {
   "cell_type": "code",
   "execution_count": null,
   "metadata": {},
   "outputs": [],
   "source": [
    "import pandas as pd\n",
    "\n",
    "# Create the DataFrame with episodes as rows and algorithms as columns\n",
    "df = pd.DataFrame(returns_by_algo)\n",
    "\n",
    "# Add Average and Std as new rows\n",
    "df.loc[\"Average\"] = df.mean()\n",
    "df.loc[\"Std\"] = df.std()\n",
    "\n",
    "# Set episode labels safely\n",
    "episode_labels = [f\"Episode {i + 1}\" for i in range(len(df) - 2)] + [\"Average\", \"Std\"]\n",
    "df.index = pd.Index(episode_labels)\n",
    "\n",
    "df = df.round(2)\n",
    "df"
   ]
  },
  {
   "cell_type": "code",
   "execution_count": null,
   "metadata": {},
   "outputs": [],
   "source": [
    "num_episodes = min(len(frames) for frames in rendered_frames_by_algo.values())\n",
    "num_episodes"
   ]
  },
  {
   "cell_type": "markdown",
   "metadata": {},
   "source": [
    "## Visualization of the learned policies on the test rooms"
   ]
  },
  {
   "cell_type": "code",
   "execution_count": null,
   "metadata": {},
   "outputs": [],
   "source": [
    "from typing import List\n",
    "from quicknav_utils.env_vis import Frame\n",
    "from IPython.display import Image as IPImage\n",
    "\n",
    "\n",
    "def pad_episode(episode_frames: List[Frame], length: int) -> List[Frame]:\n",
    "    return (\n",
    "        episode_frames + [episode_frames[-1]] * (length - len(episode_frames))\n",
    "        if len(episode_frames) < length\n",
    "        else episode_frames[:length]\n",
    "    )\n",
    "\n",
    "\n",
    "num_episodes = min(len(frames) for frames in rendered_frames_by_algo.values())\n",
    "\n",
    "# lengths of episodes are different for each algorithm, so we pad the shorter ones with the last frame\n",
    "# so that the episodes in gifs are properly aligned and can be easily compared\n",
    "for episode_idx in range(num_episodes):\n",
    "    max_episode_length = max(len(frames[episode_idx]) for frames in rendered_frames_by_algo.values())\n",
    "\n",
    "    # also truncate episodes longer than 100 frames\n",
    "    max_episode_length = min(max_episode_length, 100)\n",
    "\n",
    "    for algo_name, frames in rendered_frames_by_algo.items():\n",
    "        frames[episode_idx] = pad_episode(frames[episode_idx], max_episode_length)"
   ]
  },
  {
   "cell_type": "code",
   "execution_count": null,
   "metadata": {},
   "outputs": [],
   "source": [
    "{algo_name: len(frames) for algo_name, frames in rendered_frames_by_algo.items()}"
   ]
  },
  {
   "cell_type": "code",
   "execution_count": null,
   "metadata": {},
   "outputs": [],
   "source": [
    "from quicknav_utils.env_vis import save_gif\n",
    "\n",
    "# flatten all frames for all algorithms\n",
    "flattened_frames_by_algo = {\n",
    "    algo_name: [frame for frames in rendered_frames_by_algo[algo_name] for frame in frames]\n",
    "    for algo_name in rendered_frames_by_algo\n",
    "}\n",
    "\n",
    "# Merge frames from all algorithms into one\n",
    "merged_frames = np.concatenate([flattened_frames_by_algo[algo_name] for algo_name in flattened_frames_by_algo], axis=2)\n",
    "\n",
    "save_gif(merged_frames, Path(\"temp/merged_frames.gif\"))"
   ]
  },
  {
   "cell_type": "code",
   "execution_count": null,
   "metadata": {},
   "outputs": [],
   "source": [
    "display(IPImage(filename=\"temp/merged_frames.gif\"))"
   ]
  }
 ],
 "metadata": {
  "kernelspec": {
   "display_name": ".venv",
   "language": "python",
   "name": "python3"
  },
  "language_info": {
   "codemirror_mode": {
    "name": "ipython",
    "version": 3
   },
   "file_extension": ".py",
   "mimetype": "text/x-python",
   "name": "python",
   "nbconvert_exporter": "python",
   "pygments_lexer": "ipython3",
   "version": "3.10.12"
  }
 },
 "nbformat": 4,
 "nbformat_minor": 2
}
