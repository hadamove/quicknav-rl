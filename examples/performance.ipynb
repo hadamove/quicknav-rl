{
 "cells": [
  {
   "cell_type": "markdown",
   "metadata": {},
   "source": [
    "# Performance testing\n",
    "\n",
    "This notebook demonstrates how much speed-up we can leverage from JAX's JIT (Just-In-Time) compilation.\n",
    "\n",
    "We compare training on our environment with and without JIT compilation over different number of timesteps and plot the trends.\n",
    "\n",
    "## How does JIT compilation speed up RL training?\n",
    "\n",
    "1. **Tracing:**  \n",
    "   When `jax.jit` is applied to `agent.train`, it records all JAX operations in the function, creating a static computation graph that represents the complete data flow without executing it.\n",
    "\n",
    "2. **Compilation with XLA:**  \n",
    "   This graph is sent to XLA (Accelerated Linear Algebra), which optimizes it by fusing operations and eliminating redundancies. XLA then converts the graph into low-level machine code tailored for your hardware (e.g., GPU or TPU).\n",
    "\n",
    "3. **Direct Execution:**  \n",
    "   Finally, when you call `train_fn(rng)`, the cached machine code is dispatched directly to the hardware via native drivers (like CUDA for GPUs). Inputs are transferred to device memory if necessary, and the code runs without involving the Python interpreter, drastically reducing runtime overhead."
   ]
  },
  {
   "cell_type": "markdown",
   "metadata": {},
   "source": [
    "## Training & Profiling methods"
   ]
  },
  {
   "cell_type": "code",
   "execution_count": null,
   "metadata": {},
   "outputs": [],
   "source": [
    "%load_ext autoreload\n",
    "%autoreload 2\n",
    "\n",
    "from rejax import PPO\n",
    "from quicknav_jax.env import NavigationEnv\n",
    "\n",
    "\n",
    "def create_ppo_agent(total_timesteps: int = 2_000_000):\n",
    "    # Initialize our environment\n",
    "    env = NavigationEnv()\n",
    "\n",
    "    config = {\n",
    "        # Pass our environment to the agent\n",
    "        \"env\": env,\n",
    "        # Number of timesteps during which the agent will be trained\n",
    "        \"total_timesteps\": total_timesteps,\n",
    "    }\n",
    "\n",
    "    # Create the training algorithm agent from `rejax` library\n",
    "    return PPO.create(**config)"
   ]
  },
  {
   "cell_type": "code",
   "execution_count": null,
   "metadata": {},
   "outputs": [],
   "source": [
    "import jax\n",
    "import time\n",
    "\n",
    "TRAIN_SEED = 13\n",
    "\n",
    "\n",
    "def benchmark_train_time(total_timesteps: int, use_jit: bool = True):\n",
    "    # Set training seed and jit train function\n",
    "    start = time.time()\n",
    "    agent = create_ppo_agent(total_timesteps)\n",
    "    rng = jax.random.PRNGKey(TRAIN_SEED)\n",
    "\n",
    "    train_fn = jax.jit(agent.train) if use_jit else agent.train\n",
    "\n",
    "    train_fn(rng)\n",
    "    time_elapsed = time.time() - start\n",
    "\n",
    "    # Steps per second\n",
    "    sps = agent.total_timesteps / time_elapsed\n",
    "\n",
    "    del agent  # Free up memory\n",
    "\n",
    "    return sps, time_elapsed"
   ]
  },
  {
   "cell_type": "markdown",
   "metadata": {},
   "source": [
    "## Benchmark (JIT vs No JIT)"
   ]
  },
  {
   "cell_type": "code",
   "execution_count": null,
   "metadata": {},
   "outputs": [],
   "source": [
    "total_timesteps_settings = [100_000 * 2**i for i in range(0, 7)]\n",
    "\n",
    "benchmark_data = []\n",
    "for ts in total_timesteps_settings:\n",
    "    for use_jit in [True, False]:\n",
    "        sps, t_elapsed = benchmark_train_time(ts, use_jit)\n",
    "\n",
    "        benchmark_data.append({\"total_timesteps\": ts, \"JIT\": use_jit, \"sps\": sps, \"time\": t_elapsed})\n",
    "        print(f\"Total timesteps: {ts}, JIT: {use_jit}, Speed (steps/s): {sps:.2f}, Time elapsed (s): {t_elapsed:.2f}\")"
   ]
  },
  {
   "cell_type": "markdown",
   "metadata": {},
   "source": [
    "## Plotting"
   ]
  },
  {
   "cell_type": "code",
   "execution_count": null,
   "metadata": {},
   "outputs": [],
   "source": [
    "import pandas as pd\n",
    "import matplotlib.pyplot as plt\n",
    "import matplotlib.ticker as ticker\n",
    "\n",
    "df = pd.DataFrame(benchmark_data)\n",
    "\n",
    "fig, axs = plt.subplots(1, 2, figsize=(12, 5))\n",
    "colors = {True: \"b\", False: \"r\"}\n",
    "labels = {True: \"JIT\", False: \"No JIT\"}\n",
    "\n",
    "for jit, group in df.groupby(\"JIT\"):\n",
    "    axs[0].plot(\n",
    "        group[\"total_timesteps\"], group[\"time\"], marker=\"o\", linestyle=\"-\", color=colors[jit], label=labels[jit]\n",
    "    )\n",
    "    axs[1].plot(group[\"total_timesteps\"], group[\"sps\"], marker=\"o\", linestyle=\"-\", color=colors[jit], label=labels[jit])\n",
    "\n",
    "\n",
    "def formatter(x, pos):\n",
    "    if x < 1_000:\n",
    "        return f\"{x:.0f}\"\n",
    "    elif x < 1_000_000:\n",
    "        return f\"{x / 1000:.0f}K\"\n",
    "    else:\n",
    "        return f\"{x / 1_000_000:.2f}M\"\n",
    "\n",
    "\n",
    "formatter = ticker.FuncFormatter(formatter)\n",
    "\n",
    "for ax, y_label, title in zip(axs, [\"Time elapsed (s)\", \"Steps per second\"], [\"Training Time\", \"Steps per second\"]):\n",
    "    ax.set_xscale(\"log\", base=2)\n",
    "    ax.set_yscale(\"log\", base=2)\n",
    "    ax.set_xlabel(\"Total timesteps\")\n",
    "    ax.set_ylabel(f\"{y_label}\")\n",
    "    ax.set_title(title)\n",
    "    ax.grid(True, which=\"both\", linestyle=\"--\", linewidth=0.5)\n",
    "    ax.minorticks_on()\n",
    "    ax.legend()\n",
    "    ax.xaxis.set_major_formatter(formatter)\n",
    "    ax.yaxis.set_major_formatter(formatter)\n",
    "\n",
    "\n",
    "plt.tight_layout()\n",
    "plt.show()"
   ]
  },
  {
   "cell_type": "code",
   "execution_count": null,
   "metadata": {},
   "outputs": [],
   "source": []
  }
 ],
 "metadata": {
  "kernelspec": {
   "display_name": ".venv",
   "language": "python",
   "name": "python3"
  },
  "language_info": {
   "codemirror_mode": {
    "name": "ipython",
    "version": 3
   },
   "file_extension": ".py",
   "mimetype": "text/x-python",
   "name": "python",
   "nbconvert_exporter": "python",
   "pygments_lexer": "ipython3",
   "version": "3.10.12"
  }
 },
 "nbformat": 4,
 "nbformat_minor": 2
}
