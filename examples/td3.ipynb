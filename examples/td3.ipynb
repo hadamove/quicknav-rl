{
 "cells": [
  {
   "cell_type": "markdown",
   "metadata": {},
   "source": [
    "## Initialize the environment"
   ]
  },
  {
   "cell_type": "code",
   "execution_count": null,
   "metadata": {},
   "outputs": [],
   "source": [
    "%load_ext autoreload\n",
    "%autoreload 2\n",
    "\n",
    "import jax\n",
    "\n",
    "from quicknav_jax import RoomParams, generate_rooms, NavigationEnvParams, NavigationEnv\n",
    "\n",
    "ROOM_SEED = 42\n",
    "\n",
    "# Generate rooms\n",
    "room_key = jax.random.PRNGKey(ROOM_SEED)\n",
    "room_params = RoomParams(size=8.0, grid_size=16)\n",
    "obstacles, free_positions = generate_rooms(room_key, room_params)\n",
    "\n",
    "# Initialize environment parameters with generated rooms\n",
    "env_params = NavigationEnvParams(rooms=room_params, obstacles=obstacles, free_positions=free_positions, lidar_fov=90)"
   ]
  },
  {
   "cell_type": "markdown",
   "metadata": {},
   "source": [
    "## Initialize the agent - the RL algorithm\n",
    "\n",
    "This is the only part of the notebook that is specific to the RL algorithm (the only part in which files `ppo.ipynb`, `sac.ipynb`, and `td3.ipynb`)\n",
    "\n",
    "\n",
    "- Each RL algorithm from `rejax` has it's own hyperparameters passed through the `config` dictionary. The shape varies depending on the algorithm. \n",
    "- Skipped hyperparameters are set to default values.\n",
    "- To see full list of hyperparameters in the `config` dictionary uncomment the last line of the cell below."
   ]
  },
  {
   "cell_type": "code",
   "execution_count": null,
   "metadata": {},
   "outputs": [],
   "source": [
    "from rejax import TD3\n",
    "\n",
    "# Initialize the training algorithm parameters\n",
    "config = {\n",
    "    # Pass our environment to the agent\n",
    "    \"env\": NavigationEnv(),\n",
    "    \"env_params\": env_params,\n",
    "    \"total_timesteps\": 1_000_000,\n",
    "    # \"normalize_observations\": True,\n",
    "    # \"num_steps\": 128,\n",
    "    # \"num_minibatches\": 128,\n",
    "    # \"num_envs\": 512,\n",
    "    # \"agent_kwargs\": {\n",
    "    #     \"hidden_layer_sizes\": (128, 128),\n",
    "    # },\n",
    "}\n",
    "\n",
    "# Create the training algorithm agent from `rejax` library\n",
    "agent = TD3.create(**config)\n",
    "\n",
    "\n",
    "# Uncomment to see the full config of the RL algorithm\n",
    "# print(agent.config)"
   ]
  },
  {
   "cell_type": "markdown",
   "metadata": {},
   "source": [
    "## Train the agent"
   ]
  },
  {
   "cell_type": "code",
   "execution_count": null,
   "metadata": {},
   "outputs": [],
   "source": [
    "import jax\n",
    "import time\n",
    "\n",
    "# Set the seed for reproducibility\n",
    "TRAIN_SEED = 43\n",
    "\n",
    "# Set training seed and jit train function\n",
    "rng = jax.random.PRNGKey(TRAIN_SEED)\n",
    "train_fn = jax.jit(agent.train)\n",
    "\n",
    "print(\"Starting to train\")\n",
    "\n",
    "# Train!\n",
    "start = time.time()\n",
    "train_state, train_evaluation = train_fn(rng)\n",
    "time_elapsed = time.time() - start\n",
    "\n",
    "sps = agent.total_timesteps / time_elapsed\n",
    "print(f\"Finished training in {time_elapsed:g} seconds ({sps:g} steps/second).\")"
   ]
  },
  {
   "cell_type": "markdown",
   "metadata": {},
   "source": [
    "## Rewards progression during training"
   ]
  },
  {
   "cell_type": "code",
   "execution_count": null,
   "metadata": {},
   "outputs": [],
   "source": [
    "from matplotlib import pyplot as plt\n",
    "import numpy as np\n",
    "import os\n",
    "\n",
    "episode_lengths, episode_returns = train_evaluation\n",
    "mean_return = episode_returns.mean(axis=1)\n",
    "\n",
    "plt.plot(jax.numpy.linspace(0, agent.total_timesteps, len(mean_return)), mean_return)\n",
    "plt.xlabel(\"Environment step\")\n",
    "plt.ylabel(\"Episodic return\")\n",
    "plt.title(f\"Training of {agent.__class__.__name__} agent\")\n",
    "plt.show()\n",
    "\n",
    "# Create temp directory if it doesn't exist\n",
    "os.makedirs(\"temp\", exist_ok=True)\n",
    "\n",
    "# Save the training curve data as numpy array for comparison with other algorithms\n",
    "np.save(f\"temp/{agent.__class__.__name__}_training_curve.npy\", mean_return)"
   ]
  },
  {
   "cell_type": "markdown",
   "metadata": {},
   "source": [
    "## Evaluatation\n",
    "\n",
    "Let's evaluate the agent on the test set of rooms and visualize the results."
   ]
  },
  {
   "cell_type": "code",
   "execution_count": null,
   "metadata": {},
   "outputs": [],
   "source": [
    "from quicknav_jax import evaluate_model\n",
    "\n",
    "# Set the seed for reproducibility\n",
    "TEST_SEED = 77\n",
    "\n",
    "evaluation = evaluate_model(\n",
    "    agent=agent,\n",
    "    train_state=train_state,\n",
    "    seed=TEST_SEED,\n",
    "    render=True,\n",
    "    n_eval_episodes=10,\n",
    ")\n",
    "\n",
    "# Save the returns for comparison with other algorithms\n",
    "np.save(f\"temp/{agent.__class__.__name__}_returns.npy\", evaluation.returns)"
   ]
  },
  {
   "cell_type": "markdown",
   "metadata": {},
   "source": [
    "## Visualization\n",
    "\n",
    "Use functionality from `env_vis.py` to visualize the agent's performance in the test set of rooms."
   ]
  },
  {
   "cell_type": "code",
   "execution_count": null,
   "metadata": {},
   "outputs": [],
   "source": [
    "from quicknav_utils.env_vis import save_gif\n",
    "from pathlib import Path\n",
    "from IPython.display import Image as IPImage, display\n",
    "\n",
    "if evaluation.rendered_frames is not None:\n",
    "    path = Path(f\"temp/{agent.__class__.__name__}_policy.gif\")\n",
    "    save_gif(evaluation.rendered_frames, path)\n",
    "\n",
    "    display(IPImage(filename=path))\n",
    "\n",
    "    # Save the rendered frames as numpy array for comparison with other algorithms\n",
    "    np.save(\n",
    "        f\"temp/{agent.__class__.__name__}_rendered_frames.npy\",\n",
    "        np.array(evaluation.rendered_frames, dtype=object),\n",
    "        allow_pickle=True,\n",
    "    )"
   ]
  }
 ],
 "metadata": {
  "kernelspec": {
   "display_name": ".venv",
   "language": "python",
   "name": "python3"
  },
  "language_info": {
   "codemirror_mode": {
    "name": "ipython",
    "version": 3
   },
   "file_extension": ".py",
   "mimetype": "text/x-python",
   "name": "python",
   "nbconvert_exporter": "python",
   "pygments_lexer": "ipython3",
   "version": "3.10.12"
  }
 },
 "nbformat": 4,
 "nbformat_minor": 2
}
