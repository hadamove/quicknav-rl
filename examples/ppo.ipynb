{
 "cells": [
  {
   "cell_type": "markdown",
   "metadata": {},
   "source": [
    "## Initialize environment and agent"
   ]
  },
  {
   "cell_type": "code",
   "execution_count": null,
   "metadata": {},
   "outputs": [],
   "source": [
    "%load_ext autoreload\n",
    "%autoreload 2\n",
    "\n",
    "from rejax import PPO\n",
    "import jax\n",
    "from env import EnvParams, NavigationEnv\n",
    "from rooms import RoomParams, generate_rooms\n",
    "\n",
    "ROOM_SEED = 42\n",
    "\n",
    "# Initialize our environment\n",
    "env = NavigationEnv()\n",
    "\n",
    "room_key = jax.random.PRNGKey(ROOM_SEED)\n",
    "room_params = RoomParams(\n",
    "    size=8.0,\n",
    "    grid_size=16\n",
    ")\n",
    "obstacles, free_positions = generate_rooms(room_key, room_params)\n",
    "\n",
    "# Initialize environment parameters with generated rooms\n",
    "env_params = EnvParams(\n",
    "    rooms=room_params,\n",
    "    obstacles=obstacles,\n",
    "    free_positions=free_positions,\n",
    ")\n",
    "\n",
    "# Initialize the training algorithm parameters\n",
    "config = {\n",
    "    # Pass our environment to the agent\n",
    "    \"env\": env,\n",
    "    \"env_params\": env_params,\n",
    "    \"total_timesteps\": 300_000,\n",
    "    \"normalize_observations\": True, \n",
    "    \"num_steps\": 128, \n",
    "    \"num_minibatches\": 128, \n",
    "    \"num_envs\": 512, \n",
    "    \"agent_kwargs\": {\n",
    "        \"hidden_layer_sizes\": (128, 128),\n",
    "    },\n",
    "}\n",
    "\n",
    "# Create the training algorithm agent from `rejax` library\n",
    "ppo = PPO.create(**config)"
   ]
  },
  {
   "cell_type": "markdown",
   "metadata": {},
   "source": [
    "## Train the agent"
   ]
  },
  {
   "cell_type": "code",
   "execution_count": null,
   "metadata": {},
   "outputs": [],
   "source": [
    "import jax\n",
    "import time\n",
    "\n",
    "# Set the seed for reproducibility\n",
    "TRAIN_SEED = 43\n",
    "\n",
    "# Set training seed and jit train function\n",
    "rng = jax.random.PRNGKey(TRAIN_SEED)\n",
    "train_fn = jax.jit(ppo.train)\n",
    "\n",
    "print(\"Starting to train\")\n",
    "\n",
    "# Train!\n",
    "start = time.time()\n",
    "train_state, evaluation = train_fn(rng)\n",
    "time_elapsed = time.time() - start\n",
    "\n",
    "sps = ppo.total_timesteps / time_elapsed\n",
    "print(f\"Finished training in {time_elapsed:g} seconds ({sps:g} steps/second).\")\n"
   ]
  },
  {
   "cell_type": "markdown",
   "metadata": {},
   "source": [
    "## Rewards progression during training"
   ]
  },
  {
   "cell_type": "code",
   "execution_count": null,
   "metadata": {},
   "outputs": [],
   "source": [
    "from matplotlib import pyplot as plt\n",
    "\n",
    "episode_lengths, episode_returns = evaluation\n",
    "mean_return = episode_returns.mean(axis=1)\n",
    "\n",
    "plt.plot(jax.numpy.linspace(0, ppo.total_timesteps, len(mean_return)), mean_return)\n",
    "plt.xlabel(\"Environment step\")\n",
    "plt.ylabel(\"Episodic return\")\n",
    "plt.title(f\"Training agent for {env.name} using {ppo.__class__.__name__}\")\n",
    "plt.show()\n",
    "\n",
    "print(mean_return.mean())"
   ]
  },
  {
   "cell_type": "markdown",
   "metadata": {},
   "source": [
    "## Evaluatation\n",
    "\n",
    "Let's evaluate the agent on the test set of rooms and visualize the results."
   ]
  },
  {
   "cell_type": "code",
   "execution_count": null,
   "metadata": {},
   "outputs": [],
   "source": [
    "from eval import evaluate_model\n",
    "\n",
    "# Set the seed for reproducibility\n",
    "TEST_SEED = 32\n",
    "\n",
    "evaluation = evaluate_model(\n",
    "    agent=ppo, \n",
    "    train_state=train_state, \n",
    "    seed=TEST_SEED, \n",
    "    render=True,\n",
    "    n_eval_episodes=10,\n",
    ")\n",
    "\n",
    "print(evaluation.returns.mean())\n"
   ]
  },
  {
   "cell_type": "markdown",
   "metadata": {},
   "source": [
    "## Visualization\n",
    "\n",
    "Visualize a few episodes of the agent playing the game."
   ]
  },
  {
   "cell_type": "code",
   "execution_count": null,
   "metadata": {},
   "outputs": [],
   "source": [
    "from env_vis import save_gif\n",
    "from pathlib import Path\n",
    "from IPython.display import Image as IPImage, display\n",
    "\n",
    "if evaluation.rendered_frames is not None:\n",
    "    path = Path(\"temp/ppo_policy.gif\")\n",
    "    save_gif(evaluation.rendered_frames, path)\n",
    "\n",
    "    display(IPImage(filename=path))"
   ]
  },
  {
   "cell_type": "code",
   "execution_count": null,
   "metadata": {},
   "outputs": [],
   "source": []
  }
 ],
 "metadata": {
  "kernelspec": {
   "display_name": ".venv",
   "language": "python",
   "name": "python3"
  },
  "language_info": {
   "codemirror_mode": {
    "name": "ipython",
    "version": 3
   },
   "file_extension": ".py",
   "mimetype": "text/x-python",
   "name": "python",
   "nbconvert_exporter": "python",
   "pygments_lexer": "ipython3",
   "version": "3.10.12"
  }
 },
 "nbformat": 4,
 "nbformat_minor": 2
}
