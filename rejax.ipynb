{
 "cells": [
  {
   "cell_type": "code",
   "execution_count": null,
   "metadata": {},
   "outputs": [],
   "source": [
    "# Automatically reload modules when they change\n",
    "# %load_ext autoreload\n",
    "\n",
    "from rejax import PPO\n",
    "from diff_drive_gymnax_env import DiffDriveEnv"
   ]
  },
  {
   "cell_type": "code",
   "execution_count": 7,
   "metadata": {},
   "outputs": [
    {
     "ename": "AttributeError",
     "evalue": "'property' object has no attribute 'num_actions'",
     "output_type": "error",
     "traceback": [
      "\u001b[0;31m---------------------------------------------------------------------------\u001b[0m",
      "\u001b[0;31mAttributeError\u001b[0m                            Traceback (most recent call last)",
      "Cell \u001b[0;32mIn[7], line 1\u001b[0m\n\u001b[0;32m----> 1\u001b[0m ppo \u001b[38;5;241m=\u001b[39m \u001b[43mPPO\u001b[49m\u001b[38;5;241;43m.\u001b[39;49m\u001b[43mcreate\u001b[49m\u001b[43m(\u001b[49m\u001b[43menv\u001b[49m\u001b[38;5;241;43m=\u001b[39;49m\u001b[43mDiffDriveEnv\u001b[49m\u001b[43m)\u001b[49m\n",
      "File \u001b[0;32m~/dev/ai-project/.venv/lib/python3.10/site-packages/rejax/algos/algorithm.py:39\u001b[0m, in \u001b[0;36mAlgorithm.create\u001b[0;34m(cls, **config)\u001b[0m\n\u001b[1;32m     36\u001b[0m \u001b[38;5;129m@classmethod\u001b[39m\n\u001b[1;32m     37\u001b[0m \u001b[38;5;28;01mdef\u001b[39;00m\u001b[38;5;250m \u001b[39m\u001b[38;5;21mcreate\u001b[39m(\u001b[38;5;28mcls\u001b[39m, \u001b[38;5;241m*\u001b[39m\u001b[38;5;241m*\u001b[39mconfig):\n\u001b[1;32m     38\u001b[0m     env, env_params \u001b[38;5;241m=\u001b[39m \u001b[38;5;28mcls\u001b[39m\u001b[38;5;241m.\u001b[39mcreate_env(config)\n\u001b[0;32m---> 39\u001b[0m     agent \u001b[38;5;241m=\u001b[39m \u001b[38;5;28;43mcls\u001b[39;49m\u001b[38;5;241;43m.\u001b[39;49m\u001b[43mcreate_agent\u001b[49m\u001b[43m(\u001b[49m\u001b[43mconfig\u001b[49m\u001b[43m,\u001b[49m\u001b[43m \u001b[49m\u001b[43menv\u001b[49m\u001b[43m,\u001b[49m\u001b[43m \u001b[49m\u001b[43menv_params\u001b[49m\u001b[43m)\u001b[49m\n\u001b[1;32m     41\u001b[0m     \u001b[38;5;28;01mdef\u001b[39;00m\u001b[38;5;250m \u001b[39m\u001b[38;5;21meval_callback\u001b[39m(algo, ts, rng):\n\u001b[1;32m     42\u001b[0m         act \u001b[38;5;241m=\u001b[39m algo\u001b[38;5;241m.\u001b[39mmake_act(ts)\n",
      "File \u001b[0;32m~/dev/ai-project/.venv/lib/python3.10/site-packages/rejax/algos/ppo.py:53\u001b[0m, in \u001b[0;36mPPO.create_agent\u001b[0;34m(cls, config, env, env_params)\u001b[0m\n\u001b[1;32m     51\u001b[0m \u001b[38;5;129m@classmethod\u001b[39m\n\u001b[1;32m     52\u001b[0m \u001b[38;5;28;01mdef\u001b[39;00m\u001b[38;5;250m \u001b[39m\u001b[38;5;21mcreate_agent\u001b[39m(\u001b[38;5;28mcls\u001b[39m, config, env, env_params):\n\u001b[0;32m---> 53\u001b[0m     action_space \u001b[38;5;241m=\u001b[39m \u001b[43menv\u001b[49m\u001b[38;5;241;43m.\u001b[39;49m\u001b[43maction_space\u001b[49m\u001b[43m(\u001b[49m\u001b[43menv_params\u001b[49m\u001b[43m)\u001b[49m\n\u001b[1;32m     54\u001b[0m     discrete \u001b[38;5;241m=\u001b[39m \u001b[38;5;28misinstance\u001b[39m(action_space, gymnax\u001b[38;5;241m.\u001b[39menvironments\u001b[38;5;241m.\u001b[39mspaces\u001b[38;5;241m.\u001b[39mDiscrete)\n\u001b[1;32m     56\u001b[0m     agent_kwargs \u001b[38;5;241m=\u001b[39m config\u001b[38;5;241m.\u001b[39mpop(\u001b[38;5;124m\"\u001b[39m\u001b[38;5;124magent_kwargs\u001b[39m\u001b[38;5;124m\"\u001b[39m, {})\n",
      "File \u001b[0;32m~/dev/ai-project/diff_drive_gymnax_env.py:207\u001b[0m, in \u001b[0;36mDiffDriveEnv.action_space\u001b[0;34m(self, params)\u001b[0m\n\u001b[1;32m    205\u001b[0m \u001b[38;5;28;01mdef\u001b[39;00m\u001b[38;5;250m \u001b[39m\u001b[38;5;21maction_space\u001b[39m(\u001b[38;5;28mself\u001b[39m, params: Optional[EnvParams] \u001b[38;5;241m=\u001b[39m \u001b[38;5;28;01mNone\u001b[39;00m) \u001b[38;5;241m-\u001b[39m\u001b[38;5;241m>\u001b[39m spaces\u001b[38;5;241m.\u001b[39mDiscrete:\n\u001b[1;32m    206\u001b[0m \u001b[38;5;250m    \u001b[39m\u001b[38;5;124;03m\"\"\"Action space of the environment.\"\"\"\u001b[39;00m\n\u001b[0;32m--> 207\u001b[0m     \u001b[38;5;28;01mreturn\u001b[39;00m spaces\u001b[38;5;241m.\u001b[39mDiscrete(\u001b[38;5;28;43mself\u001b[39;49m\u001b[38;5;241;43m.\u001b[39;49m\u001b[43mnum_actions\u001b[49m)\n",
      "\u001b[0;31mAttributeError\u001b[0m: 'property' object has no attribute 'num_actions'"
     ]
    }
   ],
   "source": [
    "ppo = PPO.create(env=DiffDriveEnv)"
   ]
  },
  {
   "cell_type": "code",
   "execution_count": null,
   "metadata": {},
   "outputs": [],
   "source": []
  }
 ],
 "metadata": {
  "kernelspec": {
   "display_name": ".venv",
   "language": "python",
   "name": "python3"
  },
  "language_info": {
   "codemirror_mode": {
    "name": "ipython",
    "version": 3
   },
   "file_extension": ".py",
   "mimetype": "text/x-python",
   "name": "python",
   "nbconvert_exporter": "python",
   "pygments_lexer": "ipython3",
   "version": "3.10.15"
  }
 },
 "nbformat": 4,
 "nbformat_minor": 2
}
